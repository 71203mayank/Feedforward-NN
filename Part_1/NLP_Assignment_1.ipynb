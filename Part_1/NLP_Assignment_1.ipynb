{
  "nbformat": 4,
  "nbformat_minor": 0,
  "metadata": {
    "colab": {
      "provenance": []
    },
    "kernelspec": {
      "name": "python3",
      "display_name": "Python 3"
    },
    "language_info": {
      "name": "python"
    }
  },
  "cells": [
    {
      "cell_type": "markdown",
      "source": [],
      "metadata": {
        "id": "Jb2Eqlsd5zh_"
      }
    },
    {
      "cell_type": "code",
      "execution_count": 1,
      "metadata": {
        "id": "91bLTrQi5Uer"
      },
      "outputs": [],
      "source": [
        "import numpy as np\n",
        "\n",
        "# function to initialize weights and biases\n",
        "# input -> array with number of neurons in each layer\n",
        "def initialize_parameters(layer_sizes):\n",
        "  parameters = {}\n",
        "  num_of_layers = len(layer_sizes)\n",
        "\n",
        "  for i in range(1, num_of_layers):\n",
        "    parameters[f'W{i}'] = np.random.randn(layer_sizes[i], layer_sizes[i-1])*0.01\n",
        "    parameters[f'b{i}'] = np.zeros((layer_sizes[i], 1))\n",
        "\n",
        "  return parameters\n",
        "\n",
        "# testing\n",
        "# parameters = initialize_parameters([784, 128, 10])\n",
        "\n"
      ]
    },
    {
      "cell_type": "markdown",
      "source": [
        "Function to calculate the output of the network for a given input X.\n",
        "\n",
        "Function Parameters:\n",
        "1. X: input data (`input_size x m`), where `m` is the number of the data\n",
        "2. parameters: Dictionary containing weights and biases.\n",
        "3. activation: List of activation funcion for each layer.\n",
        "\n",
        "Output: `output_size x m` matrix."
      ],
      "metadata": {
        "id": "ISpQ0w1kEX1x"
      }
    },
    {
      "cell_type": "code",
      "source": [
        "def sigmoid(Z):\n",
        "  return 1 / (1 + np.exp(-Z))\n",
        "\n",
        "def softmax(Z):\n",
        "  expZ = np.exp(Z - np.max(Z, axis=0, keepdims=True))  # to prevent overflow\n",
        "  return expZ / np.sum(expZ, axis=0, keepdims=True)\n",
        "\n",
        "def relu(Z):\n",
        "  return np.maximum(0, Z)\n",
        "\n",
        "\n",
        "def forward_propagation(X, parameters, activations):\n",
        "  A = X\n",
        "  caches = []\n",
        "  num_layers = len(activations)\n",
        "\n",
        "  for i in range(1, num_layers + 1):\n",
        "    W = parameters[f'W{i}']\n",
        "    b = parameters[f'b{i}']\n",
        "    Z = np.dot(W,A) + b\n",
        "\n",
        "    if(activations[i-1] == \"sigmoid\"):\n",
        "      A = sigmoid(Z)\n",
        "    elif(activations[i-1] == \"relu\"):\n",
        "      A = relu(Z)\n",
        "    elif(activations[i-1] == \"softmax\"):\n",
        "      A = softmax(Z)\n",
        "\n",
        "    caches.append({\"Z\":Z, \"A\":A, \"W\":W, \"b\": b})\n",
        "\n",
        "  return A, caches\n",
        "\n",
        "#tesing\n",
        "# X = np.random.randn(784, 5)  # Example input with 5 samples\n",
        "# activations = [\"sigmoid\", \"softmax\"]\n",
        "# A, caches = forward_propagation(X, parameters, activations)\n",
        "# print(A.shape)  # Should output: (10, 5)\n",
        "# print(A)\n",
        "\n"
      ],
      "metadata": {
        "id": "VJ7poDvIEUrC"
      },
      "execution_count": 2,
      "outputs": []
    },
    {
      "cell_type": "code",
      "source": [
        "# function to compute cross-entropy loss\n",
        "# y -> True Lable, A-> Predicted label\n",
        "def compute_loss(y,A):\n",
        "  m = y.shape[1]\n",
        "  loss = -np.sum(y*np.log(A))/m\n",
        "  return loss\n",
        "\n",
        "\n",
        "#testing\n",
        "# y = np.eye(10)[:, :5]  #example one-hot encoded labels for 5 input\n",
        "# loss = compute_loss(y,A)\n",
        "# print(loss)"
      ],
      "metadata": {
        "id": "2Lm5w4b1NLFC"
      },
      "execution_count": 3,
      "outputs": []
    },
    {
      "cell_type": "code",
      "source": [
        "def sigmoid_derivative(A):\n",
        "  return A * (1 - A)\n",
        "\n",
        "def relu_derivative(A):\n",
        "  return (A > 0).astype(float)\n",
        "\n",
        "# Back Propagation\n",
        "def back_propagation(X, y, caches, activations):\n",
        "  grads = {}\n",
        "  m = X.shape[1]\n",
        "  num_layers = len(caches)\n",
        "\n",
        "  # Computing gradients for the output layer\n",
        "  A_last = caches[-1][\"A\"]\n",
        "  dA = A_last - y\n",
        "\n",
        "  for i in reversed(range(num_layers)):\n",
        "    Z, A, W, b = caches[i][\"Z\"], caches[i][\"A\"], caches[i][\"W\"], caches[i][\"b\"]\n",
        "    if(activations[i] == \"sigmoid\"):\n",
        "      dZ = dA * sigmoid_derivative(A)\n",
        "    elif(activations[i] == \"relu\"):\n",
        "      dZ = dA * relu_derivative(A)\n",
        "    elif(activations[i] == \"softmax\"):\n",
        "      dZ = dA\n",
        "\n",
        "    dW = np.dot(dZ, caches[i-1][\"A\"].T) / m if i > 0 else np.dot(dZ, X.T)/m\n",
        "    db = np.sum(dZ, axis=1, keepdims=True) / m\n",
        "    dA = np.dot(W.T, dZ) if i > 0 else None\n",
        "\n",
        "    grads[f'dW{i+1}'] = dW\n",
        "    grads[f'db{i+1}'] = db\n",
        "\n",
        "  return grads\n",
        "\n",
        "# testing\n",
        "# grads = back_propagation(X, y, parameters, caches, activations)\n",
        "# print(grads.keys())\n",
        "\n"
      ],
      "metadata": {
        "id": "T85ZTJS4Qa_w"
      },
      "execution_count": 9,
      "outputs": []
    },
    {
      "cell_type": "code",
      "source": [
        "def update_parameters(parameters, grads, learning_rate):\n",
        "  num_layers = len(parameters) // 2\n",
        "\n",
        "  for i in range(1,num_layers + 1):\n",
        "\n",
        "    # print(f\"Layer {i}: W{i} shape {parameters[f'W{i}'].shape}, dW{i} shape {grads[f'dW{i}'].shape}\")  # Debugging\n",
        "    # print(f\"Layer {i}: b{i} shape {parameters[f'b{i}'].shape}, db{i} shape {grads[f'db{i}'].shape}\")  # Debugging\n",
        "\n",
        "    #grads[f'dW{i}'] = grads[f'dW{i}'].T\n",
        "    parameters[f'W{i}'] -= learning_rate * grads[f'dW{i}']\n",
        "    parameters[f'b{i}'] -= learning_rate * grads[f'db{i}']\n",
        "\n",
        "  return parameters\n",
        "\n",
        "# testing\n",
        "# updated_parameters = update_parameters(parameters, grads, 0.01)\n",
        "# print(updated_parameters.keys())\n"
      ],
      "metadata": {
        "id": "FzxoUcvBmXTY"
      },
      "execution_count": 10,
      "outputs": []
    },
    {
      "cell_type": "code",
      "source": [
        "import matplotlib.pyplot as plt\n",
        "\n",
        "def compute_accuracy(y_true, A_pred):\n",
        "  y_pred = np.argmax(A_pred, axis=0)\n",
        "  y_true_labels = np.argmax(y_true, axis=0)\n",
        "  accuracy = np.mean(y_pred == y_true_labels)*100  # Accuracy in percentage\n",
        "  return accuracy\n",
        "\n",
        "\n",
        "def train_neural_network(X_train, y_train, layer_sizes, activations, num_epochs=100, learning_rate=0.01):\n",
        "  loss_history = []\n",
        "  accuracy_history = []\n",
        "  parameters = initialize_parameters(layer_sizes)\n",
        "  for epoch in range(num_epochs):\n",
        "    # Forward propogation\n",
        "    A, caches = forward_propagation(X_train, parameters, activations)\n",
        "\n",
        "    # Compute loss\n",
        "    loss = compute_loss(y_train, A)\n",
        "    loss_history.append(loss)\n",
        "\n",
        "    # Compute accuracy\n",
        "    accuracy = compute_accuracy(y_train, A)\n",
        "    accuracy_history.append(accuracy)\n",
        "\n",
        "    # Backward propagation\n",
        "    grads = back_propagation(X_train, y_train, caches, activations)\n",
        "\n",
        "    # Update parameters\n",
        "    parameters = update_parameters(parameters, grads, learning_rate)\n",
        "\n",
        "    # Print loss and accuracy every 10 epochs\n",
        "    if(epoch % 10 == 0):\n",
        "      print(f\"Epoch {epoch}, Loss: {loss:.4f}, Accuracy: {accuracy:.2f}%\")\n",
        "\n",
        "  # Plot loss and accuracy curves\n",
        "  plt.figure(figsize=(12,5))\n",
        "\n",
        "  # Loss curve\n",
        "  plt.subplot(1, 2, 1)\n",
        "  plt.plot(range(num_epochs), loss_history, label=\"Loss\", color=\"red\")\n",
        "  plt.xlabel(\"Epochs\")\n",
        "  plt.ylabel(\"Loss\")\n",
        "  plt.title(\"Loss Curve\")\n",
        "  plt.legend()\n",
        "\n",
        "  # Accuracy Curve\n",
        "  plt.subplot(1, 2, 2)\n",
        "  plt.plot(range(num_epochs), accuracy_history, label=\"Accuracy\", color=\"blue\")\n",
        "  plt.xlabel(\"Epochs\")\n",
        "  plt.ylabel(\"Accuracy (%)\")\n",
        "  plt.title(\"Accuracy Curve\")\n",
        "  plt.legend()\n",
        "\n",
        "  plt.show()\n",
        "\n",
        "  return parameters\n",
        "\n"
      ],
      "metadata": {
        "id": "YkiREJAFIuuy"
      },
      "execution_count": 11,
      "outputs": []
    },
    {
      "cell_type": "code",
      "source": [
        "def evaluate_model(X_test, y_test, parameters, activations):\n",
        "\n",
        "  # Forward propogation on the test data\n",
        "  A, _ = forward_propagation(X_test, parameters, activations)\n",
        "\n",
        "  # Compute accuracy\n",
        "  accuracy = compute_accuracy(y_test, A)\n",
        "\n",
        "  print(f\"Test Accuracy: {accuracy:.2f}%\")\n",
        "\n",
        "  return accuracy,A"
      ],
      "metadata": {
        "id": "OvElzScLL-aH"
      },
      "execution_count": 12,
      "outputs": []
    },
    {
      "cell_type": "code",
      "source": [
        "import tensorflow as tf\n",
        "\n",
        "# Load MNIST dataset\n",
        "(X_train, y_train), (X_test, y_test) = tf.keras.datasets.mnist.load_data()\n",
        "\n",
        "# Normalize and flatten\n",
        "X_train = X_train.reshape(X_train.shape[0], -1)/255.0\n",
        "X_test = X_test.reshape(X_test.shape[0], -1)/255.0\n",
        "\n",
        "# One-hot encoding for labels\n",
        "y_train = np.eye(10)[y_train]\n",
        "y_test = np.eye(10)[y_test]\n",
        "\n",
        "X_train = X_train.T\n",
        "y_train = y_train.T\n",
        "X_test = X_test.T\n",
        "y_test = y_test.T\n",
        "\n",
        "layer_sizes = [784, 128, 10]\n",
        "activations = [\"relu\", \"softmax\"]\n",
        "parameters = train_neural_network(X_train, y_train, layer_sizes,activations, 200, 0.01)\n",
        "accuracy,A = evaluate_model(X_test, y_test, parameters, activations)\n",
        "\n"
      ],
      "metadata": {
        "colab": {
          "base_uri": "https://localhost:8080/",
          "height": 685
        },
        "id": "zv4H5pQYPw39",
        "outputId": "18b3a2a4-b949-4b17-a0c4-86a3f2b4817f"
      },
      "execution_count": 13,
      "outputs": [
        {
          "output_type": "stream",
          "name": "stdout",
          "text": [
            "Epoch 0, Loss: 2.3029, Accuracy: 13.59%\n",
            "Epoch 10, Loss: 2.3019, Accuracy: 15.92%\n",
            "Epoch 20, Loss: 2.3008, Accuracy: 19.06%\n",
            "Epoch 30, Loss: 2.2997, Accuracy: 22.75%\n",
            "Epoch 40, Loss: 2.2985, Accuracy: 26.29%\n",
            "Epoch 50, Loss: 2.2974, Accuracy: 29.48%\n",
            "Epoch 60, Loss: 2.2962, Accuracy: 32.25%\n",
            "Epoch 70, Loss: 2.2949, Accuracy: 34.71%\n",
            "Epoch 80, Loss: 2.2935, Accuracy: 36.95%\n",
            "Epoch 90, Loss: 2.2921, Accuracy: 38.66%\n",
            "Epoch 100, Loss: 2.2906, Accuracy: 40.16%\n",
            "Epoch 110, Loss: 2.2889, Accuracy: 41.37%\n",
            "Epoch 120, Loss: 2.2872, Accuracy: 42.35%\n",
            "Epoch 130, Loss: 2.2853, Accuracy: 43.09%\n",
            "Epoch 140, Loss: 2.2833, Accuracy: 43.62%\n",
            "Epoch 150, Loss: 2.2811, Accuracy: 44.09%\n",
            "Epoch 160, Loss: 2.2787, Accuracy: 44.39%\n",
            "Epoch 170, Loss: 2.2762, Accuracy: 44.66%\n",
            "Epoch 180, Loss: 2.2734, Accuracy: 44.84%\n",
            "Epoch 190, Loss: 2.2704, Accuracy: 44.97%\n"
          ]
        },
        {
          "output_type": "display_data",
          "data": {
            "text/plain": [
              "<Figure size 1200x500 with 2 Axes>"
            ],
            "image/png": "[encoded data removed]"
          },
          "metadata": {}
        },
        {
          "output_type": "stream",
          "name": "stdout",
          "text": [
            "Test Accuracy: 45.16%\n"
          ]
        }
      ]
    },
    {
      "cell_type": "code",
      "source": [
        "# Some random predction\n",
        "sample_size = 5\n",
        "sample_indices = np.random.choice(X_test.shape[1], size=sample_size, replace=False)\n",
        "sample_images = X_test[:,sample_indices]\n",
        "sample_lables = np.argmax(y_test[:,sample_indices], axis=0)\n",
        "sample_predictions = np.argmax(A[:,sample_indices], axis=0)\n",
        "\n",
        "plt.figure(figsize=(15, 3))\n",
        "for i in range(sample_size):\n",
        "  plt.subplot(1, sample_size, i+1)\n",
        "  plt.imshow(sample_images[:,i].reshape(28,28), cmap='gray')\n",
        "  plt.title(f\"True: {sample_lables[i]}, Pred: {sample_predictions[i]}\")\n",
        "  plt.axis('off')\n",
        "plt.tight_layout()\n",
        "plt.show()"
      ],
      "metadata": {
        "colab": {
          "base_uri": "https://localhost:8080/",
          "height": 153
        },
        "id": "dQTGyS77Th6V",
        "outputId": "72b0829a-e554-44d9-8d99-b90440822b32"
      },
      "execution_count": 15,
      "outputs": [
        {
          "output_type": "display_data",
          "data": {
            "text/plain": [
              "<Figure size 1500x300 with 5 Axes>"
            ],
            "image/png": "[encoded data removed]"
          },
          "metadata": {}
        }
      ]
    },
    {
      "cell_type": "markdown",
      "source": [
        "When using activations = ['sigmoid', 'softmax'], the accuracy achieved within 200 epochs was around 11%. However, when ReLU was used instead of sigmoid, the accuracy improved to around 45%.\n",
        "\n",
        "My observation: ReLU leads to faster training and helps mitigate the vanishing gradient problem."
      ],
      "metadata": {
        "id": "fWMyqKxfa0Ys"
      }
    }
  ]
}